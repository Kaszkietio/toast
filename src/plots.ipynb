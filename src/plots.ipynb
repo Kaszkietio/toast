{
 "cells": [
  {
   "cell_type": "code",
   "execution_count": null,
   "id": "f078c29c",
   "metadata": {},
   "outputs": [],
   "source": [
    "import pandas as pd\n",
    "import seaborn as sns\n",
    "from matplotlib import pyplot as plt"
   ]
  },
  {
   "cell_type": "code",
   "execution_count": null,
   "id": "53535677",
   "metadata": {},
   "outputs": [],
   "source": [
    "lights_types = [\"no_adaptive\", \"adaptive\"]\n",
    "traffic_types = [\"low_traffic\", \"mid_traffic\", \"high_traffic\"]\n",
    "\n",
    "def load_data_exp_light_type(lights_type, traffic_type):\n",
    "    pds = []\n",
    "    for i in range(3):\n",
    "        filename = f\"metrics/light_types_traffic/{lights_type}_{traffic_type}_{i+1}.csv\"\n",
    "        df = pd.read_csv(filename)\n",
    "        df[\"idx\"] = i + 1\n",
    "        pds.append(df)\n",
    "    print(len(pds), \"files loaded for\", lights_type, traffic_type)\n",
    "    return pd.concat(pds, ignore_index=True, axis=0)"
   ]
  },
  {
   "cell_type": "code",
   "execution_count": null,
   "id": "e24e39f2",
   "metadata": {},
   "outputs": [],
   "source": [
    "df = load_data_exp_light_type(lights_types[1], traffic_types[2])\n",
    "df2 = df[df[\"Time\"] > 30.0]\n",
    "df2.groupby(\"idx\")[\"TotalTraffic\"].mean()"
   ]
  },
  {
   "cell_type": "code",
   "execution_count": null,
   "id": "3022a02c",
   "metadata": {},
   "outputs": [],
   "source": [
    "# for traffic_type in traffic_types:\n",
    "plt.figure(figsize=(12, 6))\n",
    "sns.set_theme(style=\"whitegrid\")\n",
    "for i, traffic_type in enumerate(traffic_types):\n",
    "    df_static = load_data_exp_light_type(lights_types[0], traffic_type)\n",
    "    df_adaptive = load_data_exp_light_type(lights_types[1], traffic_type)\n",
    "\n",
    "    df_static[\"type\"] = \"Static\"\n",
    "    df_adaptive[\"type\"] = \"Adaptive\"\n",
    "    df = pd.concat([df_static, df_adaptive], ignore_index=True)\n",
    "    df = df[df[\"Time\"] > 30.0]\n",
    "    plt.subplot(1, 3, i + 1)\n",
    "    sns.boxplot(\n",
    "        hue = \"type\",\n",
    "        y=\"TotalTraffic\",\n",
    "        data=df,\n",
    "        showfliers=False,\n",
    "    )\n",
    "    plt.ylabel(\"Total Traffic\")\n",
    "    plt.title(f\"Traffic Type: {traffic_type.replace('_', ' ').title()}\")\n",
    "    plt.legend()\n",
    "\n",
    "plt.suptitle(\"Total Traffic for Static vs Adaptive Traffic Lights\")\n",
    "plt.tight_layout()\n",
    "plt.show()"
   ]
  },
  {
   "cell_type": "code",
   "execution_count": null,
   "id": "673bec7f",
   "metadata": {},
   "outputs": [],
   "source": [
    "plt.figure(figsize=(15, 5))\n",
    "sns.set_theme(style=\"whitegrid\")\n",
    "for i, traffic_type in enumerate(traffic_types):\n",
    "    df_static = load_data_exp_light_type(lights_types[0], traffic_type)\n",
    "    df_adaptive = load_data_exp_light_type(lights_types[1], traffic_type)\n",
    "\n",
    "    df_static[\"type\"] = \"Static\"\n",
    "    df_adaptive[\"type\"] = \"Adaptive\"\n",
    "    df = pd.concat([df_static, df_adaptive], ignore_index=True)\n",
    "\n",
    "    plt.subplot(1, 3, i + 1)\n",
    "    sns.scatterplot(\n",
    "        x = \"Time\",\n",
    "        y = \"TotalTraffic\",\n",
    "        hue = \"type\",\n",
    "        data=df,\n",
    "    )\n",
    "    plt.title(f\"Traffic Type: {traffic_type.replace('_', ' ').title()}\")\n",
    "    plt.xlabel(\"Time (s)\")\n",
    "    plt.ylabel(\"Total Traffic\")\n",
    "    plt.legend()\n",
    "plt.suptitle(\"Total Traffic over Time for Static vs Adaptive Traffic Lights\")\n",
    "plt.tight_layout()\n",
    "plt.show()"
   ]
  },
  {
   "cell_type": "markdown",
   "id": "22ab5620",
   "metadata": {},
   "source": [
    "### Experiment 2"
   ]
  },
  {
   "cell_type": "code",
   "execution_count": null,
   "id": "099a406e",
   "metadata": {},
   "outputs": [],
   "source": [
    "def load_data_exp_avg_waiting_time(lights_type):\n",
    "    pds = []\n",
    "    for i in range(3):\n",
    "        filename = f\"metrics/average_waiting_time/{lights_type}_{i+1}.csv\"\n",
    "        df = pd.read_csv(filename)\n",
    "        df[\"idx\"] = i + 1\n",
    "        pds.append(df)\n",
    "    print(len(pds), \"files loaded for\", lights_type, traffic_type)\n",
    "    return pd.concat(pds, ignore_index=True, axis=0)"
   ]
  },
  {
   "cell_type": "code",
   "execution_count": null,
   "id": "bf09d63f",
   "metadata": {},
   "outputs": [],
   "source": [
    "load_data_exp_avg_waiting_time(lights_types[0])"
   ]
  },
  {
   "cell_type": "code",
   "execution_count": null,
   "id": "836d8b58",
   "metadata": {},
   "outputs": [],
   "source": [
    "# plt.figure(figsize=(12, 6))\n",
    "sns.set_theme(style=\"whitegrid\")\n",
    "df_static = load_data_exp_avg_waiting_time(lights_types[0])\n",
    "df_adaptive = load_data_exp_avg_waiting_time(lights_types[1])\n",
    "\n",
    "df_static[\"type\"] = \"Static\"\n",
    "df_adaptive[\"type\"] = \"Adaptive\"\n",
    "df = pd.concat([df_static, df_adaptive], ignore_index=True)\n",
    "df = df[df[\"Time\"] > 30.0]\n",
    "sns.boxplot(\n",
    "    hue = \"type\",\n",
    "    y=\"AverageWaitingTime\",\n",
    "    data=df,\n",
    "    showfliers=False,\n",
    ")\n",
    "plt.xlabel(\"Light Type\")\n",
    "plt.ylabel(\"Total Traffic\")\n",
    "plt.suptitle(\"Average waiting time for Static vs Adaptive Traffic Lights\")\n",
    "plt.legend()\n",
    "plt.tight_layout()\n",
    "plt.show()"
   ]
  },
  {
   "cell_type": "code",
   "execution_count": null,
   "id": "b03a6280",
   "metadata": {},
   "outputs": [],
   "source": [
    "df_static[\"type\"] = \"Static\"\n",
    "df_adaptive[\"type\"] = \"Adaptive\"\n",
    "df = pd.concat([df_static, df_adaptive], ignore_index=True)\n",
    "\n",
    "sns.scatterplot(\n",
    "    x = \"Time\",\n",
    "    y = \"AverageWaitingTime\",\n",
    "    hue = \"type\",\n",
    "    data=df,\n",
    ")\n",
    "plt.xlabel(\"Time (s)\")\n",
    "plt.ylabel(\"Average Waiting Time\")\n",
    "plt.title(\"Average Waiting Time over Time for Static vs Adaptive Traffic Lights\")\n",
    "plt.legend()\n",
    "plt.show()"
   ]
  },
  {
   "cell_type": "markdown",
   "id": "87b1ce6b",
   "metadata": {},
   "source": [
    "### 3. Ambulances"
   ]
  },
  {
   "cell_type": "code",
   "execution_count": null,
   "id": "c85924eb",
   "metadata": {},
   "outputs": [],
   "source": [
    "def load_data_exp_ambulances():\n",
    "    pds = []\n",
    "    filename = f\"metrics/ambulances/special_policy_1.csv\"\n",
    "    df = pd.read_csv(filename)\n",
    "    df[\"idx\"] = 1\n",
    "    pds.append(df)\n",
    "    filename = f\"metrics/ambulances/special_policy_2.csv\"\n",
    "    df = pd.read_csv(filename)\n",
    "    df[\"idx\"] = 2\n",
    "    pds.append(df)\n",
    "\n",
    "    special_policy_df = pd.concat(pds, ignore_index=True, axis=0)\n",
    "\n",
    "    filename = f\"metrics/ambulances/no_special_policy.csv\"\n",
    "    df = pd.read_csv(filename)\n",
    "    df[\"idx\"] = 1\n",
    "\n",
    "    special_policy_df[\"Type\"] = \"Special policy\"\n",
    "    df[\"Type\"] = \"No special policy\"\n",
    "\n",
    "    return pd.concat([special_policy_df, df], axis=0, ignore_index=True)"
   ]
  },
  {
   "cell_type": "code",
   "execution_count": null,
   "id": "56c9126e",
   "metadata": {},
   "outputs": [],
   "source": [
    "import json\n",
    "ambulances_df = load_data_exp_ambulances()\n",
    "ambulances = []\n",
    "ambulances_df[\"SpecialVehicles2\"] = ambulances_df[\"SpecialVehicles\"] \\\n",
    "        .transform(lambda x: json.loads(x[1:-1].replace(\"'\", '\"'))[\"time_passed\"] if x != '[]' else None)\n",
    "\n",
    "print(ambulances_df)"
   ]
  },
  {
   "cell_type": "code",
   "execution_count": null,
   "id": "576943a9",
   "metadata": {},
   "outputs": [],
   "source": [
    "sns.set_theme(style=\"whitegrid\")\n",
    "df = ambulances_df[ambulances_df[\"SpecialVehicles2\"] != None]\n",
    "\n",
    "sns.boxplot(\n",
    "    hue = \"Type\",\n",
    "    hue_order=[\"No special policy\", \"Special policy\"],\n",
    "    y=\"SpecialVehicles2\",\n",
    "    data=df,\n",
    "    showfliers=False,\n",
    ")\n",
    "plt.xlabel(\"Policy Type\")\n",
    "plt.ylabel(\"Time (s)\")\n",
    "plt.suptitle(\"Time ambulances spent on the road for different policies\")\n",
    "plt.legend()\n",
    "plt.tight_layout()\n",
    "plt.show()"
   ]
  },
  {
   "cell_type": "code",
   "execution_count": null,
   "id": "e3aeea7e",
   "metadata": {},
   "outputs": [],
   "source": [
    "sns.set_theme(style=\"whitegrid\")\n",
    "df = ambulances_df[ambulances_df[\"SpecialVehicles2\"] != None]\n",
    "\n",
    "sns.boxplot(\n",
    "    hue = \"Type\",\n",
    "    hue_order=[\"No special policy\", \"Special policy\"],\n",
    "    y=\"SpecialVehicles2\",\n",
    "    data=df,\n",
    "    showfliers=True,\n",
    ")\n",
    "plt.xlabel(\"Policy Type\")\n",
    "plt.ylabel(\"Time (s)\")\n",
    "plt.suptitle(\"Time ambulances spent on the road for different policies\")\n",
    "plt.legend()\n",
    "plt.tight_layout()\n",
    "plt.show()"
   ]
  },
  {
   "cell_type": "code",
   "execution_count": null,
   "id": "80aea91c",
   "metadata": {},
   "outputs": [],
   "source": [
    "means = df.groupby(\"Type\")[\"SpecialVehicles2\"].mean()\n",
    "stds = df.groupby(\"Type\")[\"SpecialVehicles2\"].std()"
   ]
  },
  {
   "cell_type": "code",
   "execution_count": null,
   "id": "c5145be2",
   "metadata": {},
   "outputs": [],
   "source": [
    "means, stds"
   ]
  }
 ],
 "metadata": {
  "kernelspec": {
   "display_name": ".venv",
   "language": "python",
   "name": "python3"
  },
  "language_info": {
   "codemirror_mode": {
    "name": "ipython",
    "version": 3
   },
   "file_extension": ".py",
   "mimetype": "text/x-python",
   "name": "python",
   "nbconvert_exporter": "python",
   "pygments_lexer": "ipython3",
   "version": "3.11.3"
  }
 },
 "nbformat": 4,
 "nbformat_minor": 5
}
