{
 "cells": [
  {
   "cell_type": "code",
   "execution_count": 1,
   "id": "f078c29c",
   "metadata": {},
   "outputs": [],
   "source": [
    "import pandas as pd\n",
    "import seaborn as sns"
   ]
  },
  {
   "cell_type": "code",
   "execution_count": 16,
   "id": "53535677",
   "metadata": {},
   "outputs": [],
   "source": [
    "lights_types = [\"no_adaptive\", \"adaptive\"]\n",
    "traffic_types = [\"low_traffic\", \"mid_traffic\", \"high_traffic\"]\n",
    "\n",
    "def load_data(lights_type, traffic_type):\n",
    "    pds = []\n",
    "    for i in range(3):\n",
    "        filename = f\"metrics/light_types_traffic/{lights_type}_{traffic_type}_{i+1}.csv\"\n",
    "        df = pd.read_csv(filename)\n",
    "        df[\"idx\"] = i + 1\n",
    "        pds.append(df)\n",
    "    return pd.concat(pds, ignore_index=True, axis=0)"
   ]
  },
  {
   "cell_type": "code",
   "execution_count": 18,
   "id": "e24e39f2",
   "metadata": {},
   "outputs": [
    {
     "data": {
      "application/vnd.microsoft.datawrangler.viewer.v0+json": {
       "columns": [
        {
         "name": "idx",
         "rawType": "int64",
         "type": "integer"
        },
        {
         "name": "TotalTraffic",
         "rawType": "float64",
         "type": "float"
        }
       ],
       "ref": "8b887202-8c36-4fb0-8f9c-dc922d902cf2",
       "rows": [
        [
         "1",
         "453.56976744186045"
        ],
        [
         "2",
         "468.3224299065421"
        ],
        [
         "3",
         "451.04037267080747"
        ]
       ],
       "shape": {
        "columns": 1,
        "rows": 3
       }
      },
      "text/plain": [
       "idx\n",
       "1    453.569767\n",
       "2    468.322430\n",
       "3    451.040373\n",
       "Name: TotalTraffic, dtype: float64"
      ]
     },
     "execution_count": 18,
     "metadata": {},
     "output_type": "execute_result"
    }
   ],
   "source": [
    "df = load_data(lights_types[1], traffic_types[2])\n",
    "df2 = df[df[\"Time\"] > 30.0]\n",
    "df2.groupby(\"idx\")[\"TotalTraffic\"].mean()"
   ]
  }
 ],
 "metadata": {
  "kernelspec": {
   "display_name": ".venv",
   "language": "python",
   "name": "python3"
  },
  "language_info": {
   "codemirror_mode": {
    "name": "ipython",
    "version": 3
   },
   "file_extension": ".py",
   "mimetype": "text/x-python",
   "name": "python",
   "nbconvert_exporter": "python",
   "pygments_lexer": "ipython3",
   "version": "3.11.3"
  }
 },
 "nbformat": 4,
 "nbformat_minor": 5
}
